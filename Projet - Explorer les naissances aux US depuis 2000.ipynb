{
 "cells": [
  {
   "cell_type": "markdown",
   "metadata": {},
   "source": [
    "### 1. Introduction au dataset\n",
    "- lire le fichier \"US-births_2000-2014.csv\"\n",
    "- le convertir en liste\n",
    "- Afficher les 10 premiers éléments"
   ]
  },
  {
   "cell_type": "code",
   "execution_count": 5,
   "metadata": {
    "scrolled": true
   },
   "outputs": [
    {
     "name": "stdout",
     "output_type": "stream",
     "text": [
      "['year,month,date_of_month,day_of_week,births', '2000,1,1,6,9083', '2000,1,2,7,8006', '2000,1,3,1,11363', '2000,1,4,2,13032', '2000,1,5,3,12558', '2000,1,6,4,12466', '2000,1,7,5,12516', '2000,1,8,6,8934', '2000,1,9,7,7949']\n"
     ]
    }
   ],
   "source": [
    "births = open(\"US-births-2000-2014.csv\", 'r', encoding=\"utf-8\").read()\n",
    "births_split = births.split(\"\\n\")\n",
    "print(births_split[:10])"
   ]
  },
  {
   "cell_type": "markdown",
   "metadata": {},
   "source": [
    "### 2. Convertir la data en liste de listes\n",
    "- Créer une fonction read_csv qui à partir du fichier \"US_births_2000-2014.csv\" retourne une liste de listes dans laquelle toutes les valeurs sont des entiers.\n",
    "- Assigner le résultat à births_list\n",
    "- Afficher les 10 premiers éléments"
   ]
  },
  {
   "cell_type": "code",
   "execution_count": 14,
   "metadata": {},
   "outputs": [
    {
     "name": "stdout",
     "output_type": "stream",
     "text": [
      "[[2000, 1, 1, 6, 9083], [2000, 1, 2, 7, 8006], [2000, 1, 3, 1, 11363], [2000, 1, 4, 2, 13032], [2000, 1, 5, 3, 12558], [2000, 1, 6, 4, 12466], [2000, 1, 7, 5, 12516], [2000, 1, 8, 6, 8934], [2000, 1, 9, 7, 7949], [2000, 1, 10, 1, 11668]]\n"
     ]
    }
   ],
   "source": [
    "def read_csv(csv_file):\n",
    "    f = open(csv_file, 'r', encoding=\"utf-8\").read()\n",
    "    split = f.split(\"\\n\")\n",
    "    split = split[1:]\n",
    "    births_list = []\n",
    "    for row in split:\n",
    "        int_fields = []\n",
    "        string_fields = row.split(\",\")\n",
    "        for row in string_fields:\n",
    "            int_fields.append(int(row))\n",
    "        births_list.append(int_fields)\n",
    "    return(births_list)\n",
    "\n",
    "us_births_list = read_csv(\"US-births-2000-2014.csv\")\n",
    "\n",
    "print(us_births_list[:10])\n",
    "        \n",
    "    "
   ]
  },
  {
   "cell_type": "markdown",
   "metadata": {},
   "source": [
    "### 3. Calculer le nombre de naissance par mois\n",
    "- Créer une fonction month_births() qui à partir de la liste de listes us_births_list retourne un dictionnaire contenant pour chaque mois le nombre de naissances\n",
    "- Assigner le résultats à us_months_births\n",
    "- Afficher le résultat"
   ]
  },
  {
   "cell_type": "code",
   "execution_count": 26,
   "metadata": {},
   "outputs": [
    {
     "name": "stdout",
     "output_type": "stream",
     "text": [
      "{1: 5072588, 2: 4725693, 3: 5172961, 4: 4960750, 5: 5195445, 6: 5163360, 7: 5450418, 8: 5540170, 9: 5399592, 10: 5302865, 11: 5008750, 12: 5194432}\n"
     ]
    }
   ],
   "source": [
    "def month_births(liste):\n",
    "    births_per_month = {}\n",
    "    for item in liste:\n",
    "        # pour séparer les années & mois\n",
    "        #month = str(item[0]) + \"/\" + str(item[1])\n",
    "        month = item[1]\n",
    "        births = item[4]\n",
    "        if month in births_per_month:\n",
    "            births_per_month[month] += births\n",
    "        else:\n",
    "            births_per_month[month] = births\n",
    "    return(births_per_month)\n",
    "\n",
    "us_months_births = month_births(us_births_list)\n",
    "print(us_months_births)"
   ]
  },
  {
   "cell_type": "markdown",
   "metadata": {},
   "source": [
    "### 4. Calculer le nombre de naissance par jour de la semaine\n",
    "- Créer une fonction day_births() qui à partir de la liste de listes us_births_list retourne le nombre de naissance pour chaque jour de la semaine\n",
    "- Assigner le résultat à us_days_births\n",
    "- Afficher le résultat"
   ]
  },
  {
   "cell_type": "code",
   "execution_count": 27,
   "metadata": {},
   "outputs": [
    {
     "name": "stdout",
     "output_type": "stream",
     "text": [
      "{6: 6704495, 7: 5886889, 1: 9316001, 2: 10274874, 3: 10109130, 4: 10045436, 5: 9850199}\n"
     ]
    }
   ],
   "source": [
    "def day_births(liste):\n",
    "    births_per_day = {}\n",
    "    for li in liste:\n",
    "        day = li[3]\n",
    "        births = li[4]\n",
    "        if day in births_per_day:\n",
    "            births_per_day[day] += births\n",
    "        else:\n",
    "            births_per_day[day] = births\n",
    "    return(births_per_day)\n",
    "\n",
    "us_days_births = day_births(us_births_list)\n",
    "print(us_days_births)"
   ]
  },
  {
   "cell_type": "markdown",
   "metadata": {},
   "source": [
    "### 5. Créer une fonction plus générale\n",
    "- Créer une fonction plus générale calc_counts() qui à partir de la liste de listes us_births_liste et du numéro de colonne (0 --> année, 1 --> mois --> 2 jour du mois et 3 --> jour) retourne le nombre de naissance pour la colonne choisie\n",
    "- Tester la fonction avec les années et assigner le résultat à us_year_births"
   ]
  },
  {
   "cell_type": "code",
   "execution_count": 38,
   "metadata": {},
   "outputs": [
    {
     "name": "stdout",
     "output_type": "stream",
     "text": [
      "index colonne out of range\n",
      "index colonne out of range\n",
      "{2000: 4149598, 2001: 4110963, 2002: 4099313, 2003: 4163060, 2004: 4186863, 2005: 4211941, 2006: 4335154, 2007: 4380784, 2008: 4310737, 2009: 4190991, 2010: 4055975, 2011: 4006908, 2012: 4000868, 2013: 3973337, 2014: 4010532}\n",
      "{1: 5072588, 2: 4725693, 3: 5172961, 4: 4960750, 5: 5195445, 6: 5163360, 7: 5450418, 8: 5540170, 9: 5399592, 10: 5302865, 11: 5008750, 12: 5194432}\n",
      "{1: 2003627, 2: 2030447, 3: 2042441, 4: 2004785, 5: 2036185, 6: 2037729, 7: 2063416, 8: 2061652, 9: 2044600, 10: 2066154, 11: 2054098, 12: 2072483, 13: 2000064, 14: 2076291, 15: 2066999, 16: 2058651, 17: 2071572, 18: 2077673, 19: 2065328, 20: 2083247, 21: 2079198, 22: 2051012, 23: 2023555, 24: 1993203, 25: 1972534, 26: 2001311, 27: 2035483, 28: 2051528, 29: 1918965, 30: 1879925, 31: 1162868}\n",
      "{6: 6704495, 7: 5886889, 1: 9316001, 2: 10274874, 3: 10109130, 4: 10045436, 5: 9850199}\n",
      "None\n"
     ]
    }
   ],
   "source": [
    "def calc_counts(liste, colonne):\n",
    "    births_per_count = {}\n",
    "    for li in liste:\n",
    "        if colonne > 3 or colonne <0:\n",
    "            print(\"index colonne out of range\")\n",
    "            return\n",
    "        index = li[colonne]\n",
    "        births = li[4]\n",
    "        if index in births_per_count:\n",
    "            births_per_count[index] += births\n",
    "        else:\n",
    "            births_per_count[index] = births\n",
    "    return(births_per_count)\n",
    "\n",
    "us_year_births = calc_counts(us_births_list, 0)\n",
    "us_month_births = calc_counts(us_births_list, 1)\n",
    "us_md_births = calc_counts(us_births_list, 2)\n",
    "us_day_births = calc_counts(us_births_list, 3)\n",
    "\n",
    "error_1 = calc_counts(us_births_list, 5)\n",
    "error_2 = calc_counts(us_births_list, -1)\n",
    "\n",
    "print(us_year_births)\n",
    "print(us_month_births)\n",
    "print(us_md_births)\n",
    "print(us_day_births)\n",
    "print(error_2)"
   ]
  }
 ],
 "metadata": {
  "kernelspec": {
   "display_name": "Python 3",
   "language": "python",
   "name": "python3"
  },
  "language_info": {
   "codemirror_mode": {
    "name": "ipython",
    "version": 3
   },
   "file_extension": ".py",
   "mimetype": "text/x-python",
   "name": "python",
   "nbconvert_exporter": "python",
   "pygments_lexer": "ipython3",
   "version": "3.6.5"
  }
 },
 "nbformat": 4,
 "nbformat_minor": 2
}
