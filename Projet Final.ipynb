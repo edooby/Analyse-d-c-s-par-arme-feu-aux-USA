{
 "cells": [
  {
   "cell_type": "markdown",
   "metadata": {},
   "source": [
    "### 1. Decouverte du dataset\n",
    "\n",
    "- colonne : year, month, intent, police (impliqué ou non), sex, age, race, hispanic, place, eduction)\n",
    "\n",
    "#### Instructions\n",
    "- Lire le dataset \"guns.csv\" dans une liste data\n",
    "- Afficher les 5 premières valeurs\n",
    "- Extraire l'entête et l'assigner à la variable headers\n",
    "- Supprimer l'en-tête de data\n",
    "- Afficher l'en-tête\n",
    "- Afficher de nouveau les 5 premières valeurs sans l'en-tête"
   ]
  },
  {
   "cell_type": "code",
   "execution_count": 3,
   "metadata": {},
   "outputs": [
    {
     "name": "stdout",
     "output_type": "stream",
     "text": [
      "[['', 'year', 'month', 'intent', 'police', 'sex', 'age', 'race', 'hispanic', 'place', 'education'], ['1', '2012', '01', 'Suicide', '0', 'M', '34', 'Asian/Pacific Islander', '100', 'Home', '4'], ['2', '2012', '01', 'Suicide', '0', 'F', '21', 'White', '100', 'Street', '3'], ['3', '2012', '01', 'Suicide', '0', 'M', '60', 'White', '100', 'Other specified', '4'], ['4', '2012', '02', 'Suicide', '0', 'M', '64', 'White', '100', 'Home', '4']]\n",
      "['', 'year', 'month', 'intent', 'police', 'sex', 'age', 'race', 'hispanic', 'place', 'education']\n",
      "[['1', '2012', '01', 'Suicide', '0', 'M', '34', 'Asian/Pacific Islander', '100', 'Home', '4'], ['2', '2012', '01', 'Suicide', '0', 'F', '21', 'White', '100', 'Street', '3'], ['3', '2012', '01', 'Suicide', '0', 'M', '60', 'White', '100', 'Other specified', '4'], ['4', '2012', '02', 'Suicide', '0', 'M', '64', 'White', '100', 'Home', '4'], ['5', '2012', '02', 'Suicide', '0', 'M', '31', 'White', '100', 'Other specified', '2']]\n"
     ]
    }
   ],
   "source": [
    "import csv\n",
    "f = open(\"guns.csv\", 'r',encoding=\"utf-8\")\n",
    "data = list(csv.reader(f))\n",
    "\n",
    "# Afficher les 5 premières valeurs\n",
    "print(data[0:5])\n",
    "\n",
    "# Extraire l'en-tête\n",
    "headers = data[0] # ou headers = data[:1]\n",
    "\n",
    "# Supprimer l'en-tête\n",
    "data = data[1:]\n",
    "\n",
    "# Afficher l'en-tête\n",
    "print(headers)\n",
    "\n",
    "# Afficher les 5 premières valeurs\n",
    "print(data[0:5])"
   ]
  },
  {
   "cell_type": "markdown",
   "metadata": {},
   "source": [
    "### 2. Compter le nombre de décès par armes à feu aux USA par année\n",
    "#### Instructions\n",
    "- Utiliser une comprehension de listes pour extraire la donnée de la colonne year et assigner le résultat à la variable years\n",
    "- Créer un dictionnaire vide qu'on nommera year_counts\n",
    "- Compter le nombre de décès pour chaque année en parcourant la liste years\n",
    "- Afficher year_counts"
   ]
  },
  {
   "cell_type": "code",
   "execution_count": 11,
   "metadata": {},
   "outputs": [
    {
     "name": "stdout",
     "output_type": "stream",
     "text": [
      "{'2012': 33563, '2013': 33636, '2014': 33599}\n"
     ]
    }
   ],
   "source": [
    "years = [y[1] for y in data]\n",
    "year_counts = {}\n",
    "for year in years:\n",
    "    if year in year_counts:\n",
    "        year_counts[year] += 1\n",
    "    else:\n",
    "        year_counts[year] = 1\n",
    "\n",
    "print(year_counts)"
   ]
  },
  {
   "cell_type": "markdown",
   "metadata": {},
   "source": [
    "### 3. Explorer  les décès par armes à feu par mois et année\n",
    "#### Instructions\n",
    "- Utiliser une compréhension de liste pour créer un object datetime pour chaque élément de la liste data affin d'extraire toutes les dates. Assigner le résultat à la variable dates.\n",
    "    - N'oublier pas de convertir les valeurs de l'année et du mois avec int()\n",
    "    - Utiliser les arguments year, month et day = 1 pour notre fonction datatime()\n",
    "- Afficher les 5 premiers éléments de dates\n",
    "- Compter le nombre d'élément par dates. Assigner le résultat à date_counts\n",
    "- Afficher le résultat"
   ]
  },
  {
   "cell_type": "code",
   "execution_count": 24,
   "metadata": {},
   "outputs": [
    {
     "name": "stdout",
     "output_type": "stream",
     "text": [
      "[datetime.datetime(2012, 1, 1, 0, 0), datetime.datetime(2012, 1, 1, 0, 0), datetime.datetime(2012, 1, 1, 0, 0), datetime.datetime(2012, 2, 1, 0, 0), datetime.datetime(2012, 2, 1, 0, 0)]\n",
      "\n",
      "\n",
      "{datetime.datetime(2012, 1, 1, 0, 0): 2758, datetime.datetime(2012, 2, 1, 0, 0): 2357, datetime.datetime(2012, 3, 1, 0, 0): 2743, datetime.datetime(2012, 4, 1, 0, 0): 2795, datetime.datetime(2012, 5, 1, 0, 0): 2999, datetime.datetime(2012, 6, 1, 0, 0): 2826, datetime.datetime(2012, 7, 1, 0, 0): 3026, datetime.datetime(2012, 8, 1, 0, 0): 2954, datetime.datetime(2012, 9, 1, 0, 0): 2852, datetime.datetime(2012, 10, 1, 0, 0): 2733, datetime.datetime(2012, 11, 1, 0, 0): 2729, datetime.datetime(2012, 12, 1, 0, 0): 2791, datetime.datetime(2013, 1, 1, 0, 0): 2864, datetime.datetime(2013, 2, 1, 0, 0): 2375, datetime.datetime(2013, 3, 1, 0, 0): 2862, datetime.datetime(2013, 4, 1, 0, 0): 2798, datetime.datetime(2013, 5, 1, 0, 0): 2806, datetime.datetime(2013, 6, 1, 0, 0): 2920, datetime.datetime(2013, 7, 1, 0, 0): 3079, datetime.datetime(2013, 8, 1, 0, 0): 2859, datetime.datetime(2013, 9, 1, 0, 0): 2742, datetime.datetime(2013, 10, 1, 0, 0): 2808, datetime.datetime(2013, 11, 1, 0, 0): 2758, datetime.datetime(2013, 12, 1, 0, 0): 2765, datetime.datetime(2014, 1, 1, 0, 0): 2651, datetime.datetime(2014, 2, 1, 0, 0): 2361, datetime.datetime(2014, 3, 1, 0, 0): 2684, datetime.datetime(2014, 4, 1, 0, 0): 2862, datetime.datetime(2014, 5, 1, 0, 0): 2864, datetime.datetime(2014, 6, 1, 0, 0): 2931, datetime.datetime(2014, 7, 1, 0, 0): 2884, datetime.datetime(2014, 8, 1, 0, 0): 2970, datetime.datetime(2014, 9, 1, 0, 0): 2914, datetime.datetime(2014, 10, 1, 0, 0): 2865, datetime.datetime(2014, 11, 1, 0, 0): 2756, datetime.datetime(2014, 12, 1, 0, 0): 2857}\n"
     ]
    }
   ],
   "source": [
    "import datetime\n",
    "dates = [datetime.datetime(year = int(row[1]), month = int(row[2]), day = 1) for row in data]\n",
    "\n",
    "print(dates[0:5])\n",
    "date_counts = {}\n",
    "for date in dates:\n",
    "    if date not in date_counts:\n",
    "        date_counts[date] = 0\n",
    "    date_counts[date] += 1\n",
    "\n",
    "print(\"\\n\")\n",
    "print(date_counts)"
   ]
  },
  {
   "cell_type": "markdown",
   "metadata": {},
   "source": [
    "### 4. Explorer les décès par arme à feu par origine et sexe\n",
    "#### Instructions\n",
    "- Compter le nombre de décès en fonction du sexe, assigner à la variable sex_counts\n",
    "- Compter le nombre de décès en fonction de l'origine, assigner le résultat à race_counts\n",
    "- Afficher sex_counts et race_counts"
   ]
  },
  {
   "cell_type": "markdown",
   "metadata": {},
   "source": [
    "#### Nombre de décès par sexe"
   ]
  },
  {
   "cell_type": "code",
   "execution_count": 25,
   "metadata": {},
   "outputs": [
    {
     "name": "stdout",
     "output_type": "stream",
     "text": [
      "['M', 'F', 'M', 'M', 'M']\n"
     ]
    }
   ],
   "source": [
    "gender = [row[5] for row in data]\n",
    "print(gender[:5])"
   ]
  },
  {
   "cell_type": "code",
   "execution_count": 26,
   "metadata": {},
   "outputs": [
    {
     "name": "stdout",
     "output_type": "stream",
     "text": [
      "{'M': 86349, 'F': 14449}\n"
     ]
    }
   ],
   "source": [
    "sex_counts = {}\n",
    "for g in gender:\n",
    "    if g not in sex_counts:\n",
    "        sex_counts[g] = 0\n",
    "    sex_counts[g] +=1\n",
    "print(sex_counts)"
   ]
  },
  {
   "cell_type": "markdown",
   "metadata": {},
   "source": [
    "#### Nombre de décès par race"
   ]
  },
  {
   "cell_type": "code",
   "execution_count": 29,
   "metadata": {},
   "outputs": [
    {
     "name": "stdout",
     "output_type": "stream",
     "text": [
      "['Asian/Pacific Islander', 'White', 'White', 'White', 'White']\n"
     ]
    }
   ],
   "source": [
    "races = [row[7] for row in data]\n",
    "print(races[:5])"
   ]
  },
  {
   "cell_type": "code",
   "execution_count": 33,
   "metadata": {},
   "outputs": [
    {
     "name": "stdout",
     "output_type": "stream",
     "text": [
      "{'Asian/Pacific Islander': 1326, 'White': 66237, 'Native American/Native Alaskan': 917, 'Black': 23296, 'Hispanic': 9022}\n"
     ]
    }
   ],
   "source": [
    "race_counts = {}\n",
    "for r in races:\n",
    "    if r not in race_counts:\n",
    "        race_counts[r] = 0\n",
    "    race_counts[r] += 1\n",
    "print(race_counts)"
   ]
  },
  {
   "cell_type": "markdown",
   "metadata": {},
   "source": [
    "On peut dire que le nombre de décès par arme à feu est disproportionné en fonction si on est un homme et une femme. Cela toucherait plus les Hommes\n",
    "\n",
    "On peut aussi dire que le nombre de décès par arme à feux est disprortionnée en fonction de la race mais on ne peut pas conclure car on ne connait pas le pourcentage démographique en fonction des races.\n",
    "\n",
    "On peut aussi voir que les mois de juin à aout y a une légère augmentation du nombre de décès, il y a une saisonnalité, il y a un pic en été et un creux en hiver."
   ]
  },
  {
   "cell_type": "markdown",
   "metadata": {},
   "source": [
    "### Dataset population"
   ]
  },
  {
   "cell_type": "code",
   "execution_count": 34,
   "metadata": {},
   "outputs": [
    {
     "name": "stdout",
     "output_type": "stream",
     "text": [
      "[['Id', 'Year', 'Id', 'Sex', 'Id', 'Hispanic Origin', 'Id', 'Id2', 'Geography', 'Total', 'Race Alone - White', 'Race Alone - Hispanic', 'Race Alone - Black or African American', 'Race Alone - American Indian and Alaska Native', 'Race Alone - Asian', 'Race Alone - Native Hawaiian and Other Pacific Islander', 'Two or More Races'], ['cen42010', 'April 1, 2010 Census', 'totsex', 'Both Sexes', 'tothisp', 'Total', '0100000US', '', 'United States', '308745538', '197318956', '44618105', '40250635', '3739506', '15159516', '674625', '6984195']]\n"
     ]
    }
   ],
   "source": [
    "f = open(\"census.csv\", \"r\")\n",
    "census = list(csv.reader(f))\n",
    "\n",
    "print(census)"
   ]
  },
  {
   "cell_type": "markdown",
   "metadata": {},
   "source": [
    "### 6. Ratio de décès par armes à feu en fonction de l'origine"
   ]
  },
  {
   "cell_type": "code",
   "execution_count": 35,
   "metadata": {},
   "outputs": [
    {
     "data": {
      "text/plain": [
       "{'Asian/Pacific Islander': 1326,\n",
       " 'White': 66237,\n",
       " 'Native American/Native Alaskan': 917,\n",
       " 'Black': 23296,\n",
       " 'Hispanic': 9022}"
      ]
     },
     "execution_count": 35,
     "metadata": {},
     "output_type": "execute_result"
    }
   ],
   "source": [
    "race_counts"
   ]
  },
  {
   "cell_type": "code",
   "execution_count": 37,
   "metadata": {},
   "outputs": [
    {
     "data": {
      "text/plain": [
       "33.56849303419181"
      ]
     },
     "execution_count": 37,
     "metadata": {},
     "output_type": "execute_result"
    }
   ],
   "source": [
    "rate = 66237 / 197318956 * 100000\n",
    "rate"
   ]
  },
  {
   "cell_type": "markdown",
   "metadata": {},
   "source": [
    "- Asian/Pacific Islander = Race Alone - Asian plus Race Alone + Native Hawaïen and Other Pacific Islander\n",
    "- Black = Race Alone - Black or African American\n",
    "- Hispanic = Race Alone - Hispanic\n",
    "- Native American/Native Alaskan = Race Alone - American Indian and Alaska Native\n",
    "- Withe = Race Alone - White"
   ]
  },
  {
   "cell_type": "markdown",
   "metadata": {},
   "source": [
    "#### Instructions\n",
    "- Créer manuellement un dictionnaire nommé mapping qui contient les 5 origine avec le nombre d'habitants correspondant au dataset census\n",
    "    - Les clés du dictionnaire seront  les 5 ci-dessus\n",
    "    - Pour les Asian/Pacific, il faudra ajouter Race Alone - Asian - Native Hawaïian and Other Pacific Islander\n",
    "- Créer un dictionnaire vide ratio\n",
    "- Parcourir chaque éléments de race_counts précédemment créé\n",
    "    - Pour chaque élément diviser la valeur de race_counts par la valeur associée au dictionnaire mapping\n",
    "    - Multiplier par 100000\n",
    "    - Assigner le résultat à la clé correspondant du dictionnaire ratio\n",
    "- Afficher le ratio"
   ]
  },
  {
   "cell_type": "markdown",
   "metadata": {},
   "source": [
    "#### Exploration des ratios de décès en fonction de l'origine"
   ]
  },
  {
   "cell_type": "code",
   "execution_count": 47,
   "metadata": {},
   "outputs": [
    {
     "name": "stdout",
     "output_type": "stream",
     "text": [
      "{'Asian/Pacific Islander': 15834141, 'White': 197318956, 'Native American/Native Alaskan': 3739506, 'Black': 40250635, 'Hispanic': 44618105}\n"
     ]
    }
   ],
   "source": [
    "mapping = {\n",
    "    'Asian/Pacific Islander': int(census[1][14]) + int(census[1][15]),\n",
    "    'White': int(census[1][10]),\n",
    "    'Native American/Native Alaskan': int(census[1][13]),\n",
    "    'Black': int(census[1][12]),\n",
    "    'Hispanic': int(census[1][11])\n",
    "}  \n",
    "print(mapping)\n"
   ]
  },
  {
   "cell_type": "code",
   "execution_count": 48,
   "metadata": {},
   "outputs": [
    {
     "name": "stdout",
     "output_type": "stream",
     "text": [
      "{'Asian/Pacific Islander': 8.374309664161762, 'White': 33.56849303419181, 'Native American/Native Alaskan': 24.521955573811088, 'Black': 57.8773477735196, 'Hispanic': 20.220491210910907}\n"
     ]
    }
   ],
   "source": [
    "ratio = {}\n",
    "for race in race_counts:\n",
    "    rate = race_counts[race] / mapping[race] * 100000\n",
    "    ratio[race] = rate\n",
    "\n",
    "print(ratio)"
   ]
  },
  {
   "cell_type": "markdown",
   "metadata": {},
   "source": [
    "### 7. Filtrer par homicide\n",
    "#### Instructions\n",
    "- Extraire la colonne intent en utilisant la compréhension de listes et assigner le résultats à la variable intents\n",
    "- Extraire la colonne race en utilisant aussi une compréhension de listes et assigner le résultats à la variable races\n",
    "- Créer un dictionnaire vide qu'on nommera homicide_counts\n",
    "- Utiliser la fonction enumerate() pour parcourir chaque élément de la liste races et compter le nombre d'homicide par origine\n",
    "- Réaliser la même procédure que précédemment pour calculer le ratio, assigner le résultat au dictionnaire homicide_ratio\n",
    "- Afficher le résultat et conclure"
   ]
  },
  {
   "cell_type": "code",
   "execution_count": 50,
   "metadata": {},
   "outputs": [],
   "source": [
    "intents = [row[3] for row in data]\n",
    "races = [row[7] for row in data]"
   ]
  },
  {
   "cell_type": "code",
   "execution_count": 55,
   "metadata": {},
   "outputs": [
    {
     "name": "stdout",
     "output_type": "stream",
     "text": [
      "{'Asian/Pacific Islander': 559, 'White': 9147, 'Native American/Native Alaskan': 326, 'Black': 19510, 'Hispanic': 5634}\n"
     ]
    }
   ],
   "source": [
    "homicide_counts = {}\n",
    "for i, race in enumerate(races):\n",
    "    if race not in homicide_counts:\n",
    "        homicide_counts[race] = 0\n",
    "    if intents[i] == \"Homicide\":\n",
    "        homicide_counts[race] +=1\n",
    "    \n",
    "print(homicide_counts)"
   ]
  },
  {
   "cell_type": "code",
   "execution_count": 56,
   "metadata": {},
   "outputs": [
    {
     "name": "stdout",
     "output_type": "stream",
     "text": [
      "{'Asian/Pacific Islander': 3.530346230970155, 'White': 4.6356417981453335, 'Native American/Native Alaskan': 8.717729026240365, 'Black': 48.471284987180944, 'Hispanic': 12.627161104219914}\n"
     ]
    }
   ],
   "source": [
    "homicide_ratio = {}\n",
    "for race in homicide_counts:\n",
    "    rate = homicide_counts[race] / mapping[race] * 100000\n",
    "    homicide_ratio[race] = rate\n",
    "\n",
    "print(homicide_ratio)"
   ]
  },
  {
   "cell_type": "markdown",
   "metadata": {},
   "source": [
    "### Conclusion\n",
    "on peut voir avec le ratio que les homicides affectent disproportionnellement plus les personnes de race Black  (48.47) et à moindre mesure les hispanics"
   ]
  },
  {
   "cell_type": "markdown",
   "metadata": {},
   "source": [
    "### Nouvelles Pistes\n",
    "- lien entre les mois et le ratio homicide\n",
    "- lien entre le ratio homicide et sexe\n",
    "- lien entre le ratio et les autres causes de décès (ex : suicide)\n",
    "- ratio des décés par location et niveau d'éducation"
   ]
  }
 ],
 "metadata": {
  "kernelspec": {
   "display_name": "Python 3",
   "language": "python",
   "name": "python3"
  },
  "language_info": {
   "codemirror_mode": {
    "name": "ipython",
    "version": 3
   },
   "file_extension": ".py",
   "mimetype": "text/x-python",
   "name": "python",
   "nbconvert_exporter": "python",
   "pygments_lexer": "ipython3",
   "version": "3.6.5"
  }
 },
 "nbformat": 4,
 "nbformat_minor": 2
}
